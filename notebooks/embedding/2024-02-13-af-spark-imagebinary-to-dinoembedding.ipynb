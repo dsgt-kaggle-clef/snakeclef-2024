{
 "cells": [
  {
   "cell_type": "code",
   "execution_count": null,
   "metadata": {},
   "outputs": [],
   "source": [
    "%cd /home/afischer/snakeclef-2024/\n",
    "from snakeclef.utils import get_spark\n",
    "\n",
    "# https://knowledge.informatica.com/s/article/000196886?language=en_US\n",
    "# The vectorized reader will run out of memory (8gb) with the default batch size, so\n",
    "# this is one way of handling the issue. This is likely due to the fact that the data\n",
    "# column is so damn big, and treated as binary data instead of something like a string.\n",
    "# We might also be able to avoid this if we don't cache the fields into memory, but this\n",
    "# this needs to be validated by hand. \n",
    "spark = get_spark(**{\n",
    "    # \"spark.sql.parquet.columnarReaderBatchSize\": 512,\n",
    "    \"spark.sql.parquet.enableVectorizedReader\": False, \n",
    "})\n",
    "\n",
    "size = 'small' # small, medium, large\n",
    "gcs_parquet_path = \"gs://dsgt-clef-snakeclef-2024/data/parquet_files/\"\n",
    "input_folder = f\"SnakeCLEF2023-train-{size}_size/\"\n",
    "\n",
    "df = spark.read.parquet(gcs_parquet_path+input_folder)\n",
    "df.printSchema()\n",
    "df.show(1, vertical=True, truncate=False)\n",
    "df.count()"
   ]
  },
  {
   "cell_type": "code",
   "execution_count": null,
   "metadata": {},
   "outputs": [],
   "source": [
    "from transformers import AutoImageProcessor, AutoModel\n",
    "\n",
    "processor = AutoImageProcessor.from_pretrained('facebook/dinov2-base')\n",
    "model = AutoModel.from_pretrained('facebook/dinov2-base')"
   ]
  },
  {
   "cell_type": "code",
   "execution_count": null,
   "metadata": {},
   "outputs": [],
   "source": [
    "from pyspark.sql.functions import udf\n",
    "from pyspark.ml.functions import predict_batch_udf\n",
    "from pyspark.sql.types import BinaryType, ArrayType, FloatType\n",
    "import io\n",
    "from PIL import Image\n",
    "import torch\n",
    "import pickle\n",
    "\n",
    "# import torchvision.transforms as transforms\n",
    "\n",
    "# Define a function to convert binary data to an image, apply DINO, and return binary\n",
    "def apply_dino(binary_data):\n",
    "    # Convert binary data to image\n",
    "    image = Image.open(io.BytesIO(binary_data))\n",
    "    \n",
    "    # Transform the image as required by DINO\n",
    "    inputs = processor(images=image, return_tensors=\"pt\")\n",
    "    \n",
    "    # Apply DINO model (assuming model and preprocessing are defined)\n",
    "    with torch.no_grad():\n",
    "        # output = model(image.unsqueeze(0))  # Add batch dimension\n",
    "        outputs = model(**inputs)\n",
    "        last_hidden_states = outputs['last_hidden_state']\n",
    "\n",
    "    print('last_hidden_states:', last_hidden_states.shape)\n",
    "    \n",
    "    # Convert output to binary, if necessary\n",
    "    # This step depends on what you want to do with the DINO output\n",
    "    # output_binary = ...  # Convert the output to binary format if needed\n",
    "\n",
    "    # buffer = io.BytesIO()\n",
    "    # torch.save(last_hidden_states, buffer)\n",
    "    # output_binary = buffer.getvalue()\n",
    "    # output_binary = bytearray(output_binary)\n",
    "\n",
    "    numpy_array = last_hidden_states.numpy()\n",
    "\n",
    "    # Serialize the numpy array into bytes\n",
    "    output_binary = pickle.dumps(numpy_array)\n",
    "\n",
    "    print('output_binary:')\n",
    "    print('output_binary:', type(output_binary))\n",
    "    print('output_binary:', output_binary)\n",
    "\n",
    "    return output_binary\n",
    "\n",
    "# Register the UDF\n",
    "apply_dino_udf = udf(apply_dino, BinaryType())\n",
    "\n",
    "# batch prediction UDF\n",
    "## TODO: Update function; Should recieve data as an np array or dict of numpy arrays\n",
    "apply_dino_pbudf = predict_batch_udf(\n",
    "    apply_dino,\n",
    "    input_tensor_shapes=[[1,257,768]],\n",
    "    return_type=ArrayType(FloatType()),\n",
    "    batch_size=16)\n",
    ")"
   ]
  },
  {
   "cell_type": "code",
   "execution_count": null,
   "metadata": {},
   "outputs": [],
   "source": [
    "value = df.select(\"data\").first()[0]\n",
    "print(value)\n",
    "output = apply_dino(value)"
   ]
  },
  {
   "cell_type": "code",
   "execution_count": null,
   "metadata": {},
   "outputs": [],
   "source": [
    "len(output)\n",
    "output[:10]"
   ]
  },
  {
   "cell_type": "code",
   "execution_count": null,
   "metadata": {},
   "outputs": [],
   "source": [
    "# Apply the UDF to transform images\n",
    "df_transformed = df.limit(3).withColumn(\"transformed_image\", apply_dino_udf(df[\"data\"]))"
   ]
  },
  {
   "cell_type": "code",
   "execution_count": null,
   "metadata": {},
   "outputs": [],
   "source": [
    "df_transformed.printSchema()\n",
    "df_transformed.show(1, vertical=True, truncate=False)\n"
   ]
  },
  {
   "cell_type": "code",
   "execution_count": null,
   "metadata": {},
   "outputs": [],
   "source": [
    "output_folder = f'DINOv2-embeddings-{size}_size/'\n",
    "df_transformed.write.mode(\"overwrite\").parquet(gcs_parquet_path+output_folder)"
   ]
  },
  {
   "cell_type": "code",
   "execution_count": null,
   "metadata": {},
   "outputs": [],
   "source": [
    "#Check outputs\n",
    "\n",
    "output_df = spark.read.parquet(gcs_parquet_path+output_folder)\n",
    "output_df.printSchema()\n",
    "# output_df.show(1, vertical=True, truncate=True)\n",
    "output_df.count()"
   ]
  },
  {
   "cell_type": "code",
   "execution_count": null,
   "metadata": {},
   "outputs": [],
   "source": [
    "from pyspark.sql.functions import col\n",
    "output_df.filter(col(\"transformed_image\").isNotNull()).count()"
   ]
  },
  {
   "cell_type": "code",
   "execution_count": null,
   "metadata": {},
   "outputs": [],
   "source": []
  }
 ],
 "metadata": {
  "kernelspec": {
   "display_name": "Python 3",
   "language": "python",
   "name": "python3"
  },
  "language_info": {
   "codemirror_mode": {
    "name": "ipython",
    "version": 3
   },
   "file_extension": ".py",
   "mimetype": "text/x-python",
   "name": "python",
   "nbconvert_exporter": "python",
   "pygments_lexer": "ipython3",
   "version": "3.10.12"
  },
  "orig_nbformat": 4
 },
 "nbformat": 4,
 "nbformat_minor": 2
}
