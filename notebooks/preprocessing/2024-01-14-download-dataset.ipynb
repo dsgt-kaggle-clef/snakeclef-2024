{
 "cells": [
  {
   "cell_type": "markdown",
   "metadata": {},
   "source": [
    "# Downloading SnakeCLEF 2024 datasets\n",
    "\n",
    "* https://ptak.felk.cvut.cz/plants/plants/SnakeCLEF2023/SnakeCLEF2023-train-small_size.tar.gz"
   ]
  },
  {
   "cell_type": "code",
   "execution_count": 8,
   "metadata": {},
   "outputs": [
    {
     "name": "stdout",
     "output_type": "stream",
     "text": [
      "/mnt/data/raw\n"
     ]
    },
    {
     "name": "stderr",
     "output_type": "stream",
     "text": [
      "/home/anthony/.local/lib/python3.10/site-packages/IPython/core/magics/osm.py:417: UserWarning: using dhist requires you to install the `pickleshare` library.\n",
      "  self.shell.db['dhist'] = compress_dhist(dhist)[-100:]\n"
     ]
    }
   ],
   "source": [
    "! mkdir -p /mnt/data/raw\n",
    "%cd /mnt/data/raw"
   ]
  },
  {
   "cell_type": "code",
   "execution_count": 9,
   "metadata": {},
   "outputs": [
    {
     "name": "stdout",
     "output_type": "stream",
     "text": [
      "--2024-01-14 19:22:29--  https://ptak.felk.cvut.cz/plants/plants/SnakeCLEF2023/SnakeCLEF2023-train-small_size.tar.gz\n",
      "Resolving ptak.felk.cvut.cz (ptak.felk.cvut.cz)... "
     ]
    },
    {
     "name": "stdout",
     "output_type": "stream",
     "text": [
      "147.32.84.14\n",
      "Connecting to ptak.felk.cvut.cz (ptak.felk.cvut.cz)|147.32.84.14|:443... connected.\n",
      "WARNING: cannot verify ptak.felk.cvut.cz's certificate, issued by ‘CN=ptak2’:\n",
      "  Self-signed certificate encountered.\n",
      "WARNING: no certificate subject alternative name matches\n",
      "\trequested host name ‘ptak.felk.cvut.cz’.\n",
      "HTTP request sent, awaiting response... 200 OK\n",
      "Length: 4835221499 (4.5G) [application/x-gzip]\n",
      "Saving to: ‘SnakeCLEF2023-train-small_size.tar.gz’\n",
      "\n",
      "SnakeCLEF2023-train 100%[===================>]   4.50G  23.4MB/s    in 3m 16s  \n",
      "\n",
      "2024-01-14 19:25:45 (23.6 MB/s) - ‘SnakeCLEF2023-train-small_size.tar.gz’ saved [4835221499/4835221499]\n",
      "\n"
     ]
    }
   ],
   "source": [
    "! wget --no-check-certificate https://ptak.felk.cvut.cz/plants/plants/SnakeCLEF2023/SnakeCLEF2023-train-small_size.tar.gz"
   ]
  },
  {
   "cell_type": "markdown",
   "metadata": {},
   "source": [
    "Let's use aria2 to download the rest of the files, so we can take advantage of the multi-threading and resume."
   ]
  },
  {
   "cell_type": "code",
   "execution_count": 13,
   "metadata": {},
   "outputs": [
    {
     "name": "stdout",
     "output_type": "stream",
     "text": [
      "https://ptak.felk.cvut.cz/plants/plants/SnakeCLEF2023/SnakeCLEF2023-train-large_size.tar.gz\n",
      "https://ptak.felk.cvut.cz/plants/plants/SnakeCLEF2023/SnakeCLEF2023-train-medium_size.tar.gz\n",
      "https://ptak.felk.cvut.cz/plants/plants/SnakeCLEF2023/SnakeCLEF2023-train-small_size.tar.gz\n",
      "https://ptak.felk.cvut.cz/plants/plants/SnakeCLEF2023/SnakeCLEF2023-trainHMP.tar.gz\n",
      "https://ptak.felk.cvut.cz/plants/plants/SnakeCLEF2023/SnakeCLEF2023-val-large_size.tar.gz\n",
      "https://ptak.felk.cvut.cz/plants/plants/SnakeCLEF2023/SnakeCLEF2023-val-medium_size.tar.gz\n",
      "https://ptak.felk.cvut.cz/plants/plants/SnakeCLEF2023/SnakeCLEF2023-val-small_size.tar.gz\n",
      "https://ptak.felk.cvut.cz/plants/plants/SnakeCLEF2023/SnakeCLEF2023-pubtest.tar.gz\n",
      "https://ptak.felk.cvut.cz/plants/plants/SnakeCLEF2023/SnakeCLEF2023-TrainMetadata-iNat.csv\n",
      "https://ptak.felk.cvut.cz/plants/plants/SnakeCLEF2023/SnakeCLEF2023-TrainMetadata-HM.csv\n",
      "https://ptak.felk.cvut.cz/plants/plants/SnakeCLEF2023/SnakeCLEF2023-ValMetadata.csv\n",
      "https://ptak.felk.cvut.cz/plants/plants/SnakeCLEF2023/SnakeCLEF2023-PubTestMetadata.csv"
     ]
    }
   ],
   "source": [
    "urls = \"\"\"\n",
    "https://ptak.felk.cvut.cz/plants/plants/SnakeCLEF2023/SnakeCLEF2023-train-large_size.tar.gz\n",
    "https://ptak.felk.cvut.cz/plants/plants/SnakeCLEF2023/SnakeCLEF2023-train-medium_size.tar.gz\n",
    "https://ptak.felk.cvut.cz/plants/plants/SnakeCLEF2023/SnakeCLEF2023-train-small_size.tar.gz\n",
    "https://ptak.felk.cvut.cz/plants/plants/SnakeCLEF2023/SnakeCLEF2023-trainHMP.tar.gz\n",
    "https://ptak.felk.cvut.cz/plants/plants/SnakeCLEF2023/SnakeCLEF2023-val-large_size.tar.gz\n",
    "https://ptak.felk.cvut.cz/plants/plants/SnakeCLEF2023/SnakeCLEF2023-val-medium_size.tar.gz\n",
    "https://ptak.felk.cvut.cz/plants/plants/SnakeCLEF2023/SnakeCLEF2023-val-small_size.tar.gz\n",
    "https://ptak.felk.cvut.cz/plants/plants/SnakeCLEF2023/SnakeCLEF2023-pubtest.tar.gz\n",
    "https://ptak.felk.cvut.cz/plants/plants/SnakeCLEF2023/SnakeCLEF2023-TrainMetadata-iNat.csv\n",
    "https://ptak.felk.cvut.cz/plants/plants/SnakeCLEF2023/SnakeCLEF2023-TrainMetadata-HM.csv\n",
    "https://ptak.felk.cvut.cz/plants/plants/SnakeCLEF2023/SnakeCLEF2023-ValMetadata.csv\n",
    "https://ptak.felk.cvut.cz/plants/plants/SnakeCLEF2023/SnakeCLEF2023-PubTestMetadata.csv\n",
    "\"\"\"\n",
    "with open(\"/mnt/data/raw/urls.txt\", \"w\") as f:\n",
    "    f.write(urls.strip())\n",
    "\n",
    "! cat /mnt/data/raw/urls.txt"
   ]
  },
  {
   "cell_type": "code",
   "execution_count": 15,
   "metadata": {},
   "outputs": [
    {
     "name": "stdout",
     "output_type": "stream",
     "text": [
      "\n",
      "01/14 19:38:00 [\u001b[1;32mNOTICE\u001b[0m] Downloading 12 item(s)\n",
      "\n",
      "01/14 19:38:01 [\u001b[1;32mNOTICE\u001b[0m] GID#edb9bbff59ed792e - Download has already completed: /mnt/data/raw/SnakeCLEF2023-train-small_size.tar.gz\n",
      "\n",
      "01/14 19:38:01 [\u001b[1;32mNOTICE\u001b[0m] Download complete: /mnt/data/raw/SnakeCLEF2023-train-small_size.tar.gz\n",
      "\n",
      "01/14 19:38:01 [\u001b[1;31mERROR\u001b[0m] CUID#13 - Exception caught while allocating file space.\n",
      "Exception: [AbstractDiskWriter.cc:557] errNum=28 errorCode=9 fallocate failed. cause: No space left on device\n",
      "\n",
      "01/14 19:38:01 [\u001b[1;31mERROR\u001b[0m] CUID#13 - Download not complete: /mnt/data/raw/SnakeCLEF2023-train-large_size.tar.gz\n",
      "\n",
      "01/14 19:38:01 [\u001b[1;32mNOTICE\u001b[0m] Download GID#e2248b869657991b not complete: /mnt/data/raw/SnakeCLEF2023-train-large_size.tar.gz\n",
      "\n",
      "01/14 19:38:01 [\u001b[1;31mERROR\u001b[0m] Exception caught\n",
      "Exception: [DefaultBtProgressInfoFile.cc:165] errorCode=1 Failed to write into the segment file /mnt/data/raw/SnakeCLEF2023-train-large_size.tar.gz.aria2\n",
      "\n",
      "01/14 19:38:01 [\u001b[1;32mNOTICE\u001b[0m] Allocating disk space. Use --file-allocation=none to disable it. See --file-allocation option in man page for more details.\n",
      "\n",
      "01/14 19:38:01 [\u001b[1;31mERROR\u001b[0m] CUID#15 - Exception caught while allocating file space.\n",
      "Exception: [AbstractDiskWriter.cc:453] errNum=28 errorCode=9 Failed to write into the file /mnt/data/raw/SnakeCLEF2023-trainHMP.tar.gz, cause: No space left on device\n",
      "\n",
      "01/14 19:38:01 [\u001b[1;31mERROR\u001b[0m] CUID#15 - Download not complete: /mnt/data/raw/SnakeCLEF2023-trainHMP.tar.gz\n",
      "\n",
      "01/14 19:38:01 [\u001b[1;32mNOTICE\u001b[0m] Download GID#6e4357558eec71dd not complete: /mnt/data/raw/SnakeCLEF2023-trainHMP.tar.gz\n",
      "\n",
      "01/14 19:38:01 [\u001b[1;31mERROR\u001b[0m] CUID#17 - Exception caught while allocating file space.\n",
      "Exception: [AbstractDiskWriter.cc:453] errNum=28 errorCode=9 Failed to write into the file /mnt/data/raw/SnakeCLEF2023-val-large_size.tar.gz, cause: No space left on device\n",
      "\n",
      "01/14 19:38:01 [\u001b[1;31mERROR\u001b[0m] CUID#17 - Download not complete: /mnt/data/raw/SnakeCLEF2023-val-large_size.tar.gz\n",
      "\n",
      "01/14 19:38:01 [\u001b[1;32mNOTICE\u001b[0m] Download GID#fd4f8827a3f90b93 not complete: /mnt/data/raw/SnakeCLEF2023-val-large_size.tar.gz\n"
     ]
    },
    {
     "name": "stdout",
     "output_type": "stream",
     "text": [
      "\u001b[35m[\u001b[0mDL:\u001b[32m0B\u001b[0m\u001b[35m]\u001b[0m\u001b[35m[\u001b[0m#fd909f 0B/0B\u001b[35m]\u001b[0m\u001b[35m[\u001b[0m#2ec0f2 0B/0B\u001b[35m]\u001b[0m\u001b[35m[\u001b[0m#1e7a4f 0B/0B\u001b[35m]\u001b[0m\u001b[35m[\u001b[0m#75914b 0B/0B\u001b[35m]\u001b[0m\u001b[35m[\u001b[0m#b2f8cc 0B/\u001b[0m\n",
      "01/14 19:38:01 [\u001b[1;31mERROR\u001b[0m] CUID#19 - Exception caught while allocating file space.\n",
      "Exception: [AbstractDiskWriter.cc:453] errNum=28 errorCode=9 Failed to write into the file /mnt/data/raw/SnakeCLEF2023-train-medium_size.tar.gz, cause: No space left on device\n",
      "\n",
      "01/14 19:38:01 [\u001b[1;31mERROR\u001b[0m] CUID#19 - Download not complete: /mnt/data/raw/SnakeCLEF2023-train-medium_size.tar.gz\n",
      "\n",
      "01/14 19:38:01 [\u001b[1;32mNOTICE\u001b[0m] Download GID#fd909fd7664df436 not complete: /mnt/data/raw/SnakeCLEF2023-train-medium_size.tar.gz\n",
      "\n",
      "01/14 19:38:01 [\u001b[1;31mERROR\u001b[0m] CUID#21 - Exception caught while allocating file space.\n",
      "Exception: [AbstractDiskWriter.cc:453] errNum=28 errorCode=9 Failed to write into the file /mnt/data/raw/SnakeCLEF2023-val-medium_size.tar.gz, cause: No space left on device\n",
      "\n",
      "01/14 19:38:01 [\u001b[1;31mERROR\u001b[0m] CUID#21 - Download not complete: /mnt/data/raw/SnakeCLEF2023-val-medium_size.tar.gz\n",
      "\n",
      "01/14 19:38:01 [\u001b[1;32mNOTICE\u001b[0m] Download GID#2ec0f22ce882ae9a not complete: /mnt/data/raw/SnakeCLEF2023-val-medium_size.tar.gz\n",
      "\n",
      "01/14 19:38:01 [\u001b[1;31mERROR\u001b[0m] CUID#23 - Exception caught while allocating file space.\n",
      "Exception: [AbstractDiskWriter.cc:453] errNum=28 errorCode=9 Failed to write into the file /mnt/data/raw/SnakeCLEF2023-TrainMetadata-iNat.csv, cause: No space left on device\n",
      "\n",
      "01/14 19:38:01 [\u001b[1;31mERROR\u001b[0m] CUID#23 - Download not complete: /mnt/data/raw/SnakeCLEF2023-TrainMetadata-iNat.csv\n",
      "\n",
      "01/14 19:38:01 [\u001b[1;32mNOTICE\u001b[0m] Download GID#b2f8cc95f8df170a not complete: /mnt/data/raw/SnakeCLEF2023-TrainMetadata-iNat.csv\n",
      "\n",
      "01/14 19:38:01 [\u001b[1;31mERROR\u001b[0m] CUID#25 - Exception caught while allocating file space.\n",
      "Exception: [AbstractDiskWriter.cc:453] errNum=28 errorCode=9 Failed to write into the file /mnt/data/raw/SnakeCLEF2023-pubtest.tar.gz, cause: No space left on device\n",
      "\n",
      "01/14 19:38:01 [\u001b[1;31mERROR\u001b[0m] CUID#25 - Download not complete: /mnt/data/raw/SnakeCLEF2023-pubtest.tar.gz\n",
      "\n",
      "01/14 19:38:01 [\u001b[1;32mNOTICE\u001b[0m] Download GID#75914bfb38ddda2f not complete: /mnt/data/raw/SnakeCLEF2023-pubtest.tar.gz\n",
      "\n",
      "01/14 19:38:02 [\u001b[1;31mERROR\u001b[0m] CUID#26 - Exception caught while allocating file space.\n",
      "Exception: [AbstractDiskWriter.cc:453] errNum=28 errorCode=9 Failed to write into the file /mnt/data/raw/SnakeCLEF2023-val-small_size.tar.gz, cause: No space left on device\n",
      "\n",
      "01/14 19:38:02 [\u001b[1;31mERROR\u001b[0m] CUID#26 - Download not complete: /mnt/data/raw/SnakeCLEF2023-val-small_size.tar.gz\n",
      "\n",
      "01/14 19:38:02 [\u001b[1;32mNOTICE\u001b[0m] Download GID#1e7a4f29d50739c5 not complete: /mnt/data/raw/SnakeCLEF2023-val-small_size.tar.gz\n",
      "\u001b[35m[\u001b[0mDL:\u001b[32m758KiB\u001b[0m\u001b[35m]\u001b[0m\u001b[35m[\u001b[0m#133338 192KiB/1.1MiB\u001b[36m(16%)\u001b[0m\u001b[35m]\u001b[0m\u001b[35m[\u001b[0m#74e827 80KiB/1.2MiB\u001b[36m(6%)\u001b[0m\u001b[35m]\u001b[0m\u001b[35m[\u001b[0m#cee353 80KiB\u001b[0m\n",
      "01/14 19:38:03 [\u001b[1;31mERROR\u001b[0m] Error when trying to flush write cache\n",
      "Exception: [AbstractDiskWriter.cc:453] errNum=28 errorCode=9 Failed to write into the file /mnt/data/raw/SnakeCLEF2023-TrainMetadata-HM.csv, cause: No space left on device\n",
      "\n",
      "01/14 19:38:03 [\u001b[1;31mERROR\u001b[0m] CUID#20 - Download aborted. URI=https://ptak.felk.cvut.cz/plants/plants/SnakeCLEF2023/SnakeCLEF2023-TrainMetadata-HM.csv\n",
      "Exception: [AbstractCommand.cc:403] errorCode=9 URI=https://ptak.felk.cvut.cz/plants/plants/SnakeCLEF2023/SnakeCLEF2023-TrainMetadata-HM.csv\n",
      "  -> [DownloadCommand.cc:124] errorCode=9 Write disk cache flush failure index=0\n",
      "\n",
      "01/14 19:38:03 [\u001b[1;32mNOTICE\u001b[0m] Download GID#133338fb43447f3b not complete: /mnt/data/raw/SnakeCLEF2023-TrainMetadata-HM.csv\n",
      "\n",
      "01/14 19:38:03 [\u001b[1;31mERROR\u001b[0m] Error when trying to flush write cache\n",
      "Exception: [AbstractDiskWriter.cc:453] errNum=28 errorCode=9 Failed to write into the file /mnt/data/raw/SnakeCLEF2023-PubTestMetadata.csv, cause: No space left on device\n",
      "\n",
      "01/14 19:38:03 [\u001b[1;31mERROR\u001b[0m] CUID#24 - Download aborted. URI=https://ptak.felk.cvut.cz/plants/plants/SnakeCLEF2023/SnakeCLEF2023-PubTestMetadata.csv\n",
      "Exception: [AbstractCommand.cc:403] errorCode=9 URI=https://ptak.felk.cvut.cz/plants/plants/SnakeCLEF2023/SnakeCLEF2023-PubTestMetadata.csv\n",
      "  -> [DownloadCommand.cc:124] errorCode=9 Write disk cache flush failure index=0\n",
      "\n",
      "01/14 19:38:03 [\u001b[1;32mNOTICE\u001b[0m] Download GID#cee353bc0b9bb136 not complete: /mnt/data/raw/SnakeCLEF2023-PubTestMetadata.csv\n",
      "\n",
      "01/14 19:38:03 [\u001b[1;31mERROR\u001b[0m] Error when trying to flush write cache\n",
      "Exception: [AbstractDiskWriter.cc:453] errNum=28 errorCode=9 Failed to write into the file /mnt/data/raw/SnakeCLEF2023-ValMetadata.csv, cause: No space left on device\n",
      "\n",
      "01/14 19:38:03 [\u001b[1;31mERROR\u001b[0m] CUID#22 - Download aborted. URI=https://ptak.felk.cvut.cz/plants/plants/SnakeCLEF2023/SnakeCLEF2023-ValMetadata.csv\n",
      "Exception: [AbstractCommand.cc:403] errorCode=9 URI=https://ptak.felk.cvut.cz/plants/plants/SnakeCLEF2023/SnakeCLEF2023-ValMetadata.csv\n",
      "  -> [DownloadCommand.cc:124] errorCode=9 Write disk cache flush failure index=0\n",
      "\n",
      "01/14 19:38:03 [\u001b[1;32mNOTICE\u001b[0m] Download GID#74e82767505e0a15 not complete: /mnt/data/raw/SnakeCLEF2023-ValMetadata.csv\n",
      "\n",
      "Download Results:\n",
      "gid   |stat|avg speed  |path/URI\n",
      "======+====+===========+=======================================================\n",
      "edb9bb|\u001b[1;32mOK\u001b[0m  |       0B/s|/mnt/data/raw/SnakeCLEF2023-train-small_size.tar.gz\n",
      "e2248b|\u001b[1;31mERR\u001b[0m |       0B/s|/mnt/data/raw/SnakeCLEF2023-train-large_size.tar.gz\n",
      "6e4357|\u001b[1;31mERR\u001b[0m |       0B/s|/mnt/data/raw/SnakeCLEF2023-trainHMP.tar.gz\n",
      "fd4f88|\u001b[1;31mERR\u001b[0m |       0B/s|/mnt/data/raw/SnakeCLEF2023-val-large_size.tar.gz\n",
      "fd909f|\u001b[1;31mERR\u001b[0m |       0B/s|/mnt/data/raw/SnakeCLEF2023-train-medium_size.tar.gz\n",
      "2ec0f2|\u001b[1;31mERR\u001b[0m |       0B/s|/mnt/data/raw/SnakeCLEF2023-val-medium_size.tar.gz\n",
      "b2f8cc|\u001b[1;31mERR\u001b[0m |       0B/s|/mnt/data/raw/SnakeCLEF2023-TrainMetadata-iNat.csv\n",
      "75914b|\u001b[1;31mERR\u001b[0m |       0B/s|/mnt/data/raw/SnakeCLEF2023-pubtest.tar.gz\n",
      "1e7a4f|\u001b[1;31mERR\u001b[0m |       0B/s|/mnt/data/raw/SnakeCLEF2023-val-small_size.tar.gz\n",
      "133338|\u001b[1;31mERR\u001b[0m |   1.4MiB/s|/mnt/data/raw/SnakeCLEF2023-TrainMetadata-HM.csv\n",
      "cee353|\u001b[1;31mERR\u001b[0m |   1.0MiB/s|/mnt/data/raw/SnakeCLEF2023-PubTestMetadata.csv\n",
      "74e827|\u001b[1;31mERR\u001b[0m |   1.4MiB/s|/mnt/data/raw/SnakeCLEF2023-ValMetadata.csv\n",
      "\n",
      "Status Legend:\n",
      "(OK):download completed.(ERR):error occurred.\n",
      "\n",
      "aria2 will resume download if the transfer is restarted.\n",
      "If there are any errors, then see the log file. See '-l' option in help/man page for details.\n"
     ]
    }
   ],
   "source": [
    "! aria2c --check-certificate=false -c -i /mnt/data/raw/urls.txt -d /mnt/data/raw"
   ]
  },
  {
   "cell_type": "code",
   "execution_count": 10,
   "metadata": {},
   "outputs": [
    {
     "name": "stdout",
     "output_type": "stream",
     "text": [
      "At file:///mnt/data/**, worker process 6360 thread 140627057641280 listed 1...\n",
      "\u001b[1;33mWARNING:\u001b[0m Parallel composite upload was turned ON to get the best performance on\n",
      "uploading large objects. If you would like to opt-out and instead\n",
      "perform a normal upload, run: `gcloud config set\n",
      "storage/parallel_composite_upload_enabled False` If you would like to\n",
      "disable this warning, run: `gcloud config set\n",
      "storage/parallel_composite_upload_enabled True` Note that with\n",
      "parallel composite uploads, your object might be uploaded as a\n",
      "composite object (https://cloud.google.com/storage/docs/composite-\n",
      "objects), which means that any user who downloads your object will\n",
      "need to use crc32c checksums to verify data integrity. gcloud storage\n",
      "is capable of computing crc32c checksums, but this might pose a\n",
      "problem for other clients.\n",
      "\n",
      "Copying file:///mnt/data/raw/SnakeCLEF2023-train-small_size.tar.gz to gs://dsgt-clef-snakeclef-2024/raw/SnakeCLEF2023-train-small_size.tar.gz\n",
      "  Completed files 32/1 | 4.5GiB/4.5GiB | 348.1MiB/s                            \n",
      "\n",
      "Average throughput: 409.7MiB/s\n"
     ]
    }
   ],
   "source": [
    "! gcloud storage rsync -R /mnt/data/ gs://dsgt-clef-snakeclef-2024/"
   ]
  }
 ],
 "metadata": {
  "kernelspec": {
   "display_name": "Python 3",
   "language": "python",
   "name": "python3"
  },
  "language_info": {
   "codemirror_mode": {
    "name": "ipython",
    "version": 3
   },
   "file_extension": ".py",
   "mimetype": "text/x-python",
   "name": "python",
   "nbconvert_exporter": "python",
   "pygments_lexer": "ipython3",
   "version": "3.10.12"
  }
 },
 "nbformat": 4,
 "nbformat_minor": 2
}
