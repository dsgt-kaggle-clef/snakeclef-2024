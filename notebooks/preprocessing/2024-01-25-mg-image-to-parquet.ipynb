{
 "cells": [
  {
   "cell_type": "markdown",
   "metadata": {},
   "source": [
    "# Image to Parquet\n",
    "Convert images to binary and save them into a parquet file."
   ]
  },
  {
   "cell_type": "code",
   "execution_count": null,
   "metadata": {},
   "outputs": [],
   "source": [
    "%load_ext autoreload\n",
    "%autoreload 2"
   ]
  },
  {
   "cell_type": "markdown",
   "metadata": {},
   "source": [
    "## Join image DataFrame with Metadata files"
   ]
  },
  {
   "cell_type": "code",
   "execution_count": null,
   "metadata": {},
   "outputs": [],
   "source": [
    "import os\n",
    "from pathlib import Path\n",
    "from pyspark.sql.functions import regexp_replace, split, element_at\n",
    "from pyspark.sql import Row\n",
    "from snakeclef.utils import get_spark\n",
    "\n",
    "spark = get_spark()\n",
    "display(spark)"
   ]
  },
  {
   "cell_type": "code",
   "execution_count": null,
   "metadata": {},
   "outputs": [],
   "source": [
    "# Base directory using pathlib\n",
    "curr_dir = Path(os.getcwd())\n",
    "base_dir = curr_dir.parents[1] / \"data\" / \"SnakeCLEF2023-small_size\"\n",
    "\n",
    "# Load all files from the base directory as binary data\n",
    "# Convert Path object to string when passing to PySpark\n",
    "image_df = (\n",
    "    spark.read.format(\"binaryFile\")\n",
    "    .option(\"pathGlobFilter\", \"*.jpg\")\n",
    "    .option(\"recursiveFileLookup\", \"true\")\n",
    "    .load(base_dir.as_posix())\n",
    ")\n",
    "\n",
    "# Construct the string to be replaced - adjust this based on your actual base path\n",
    "to_remove = \"file:\" + str(base_dir.parents[0])\n",
    "\n",
    "# Remove \"file:{base_dir.parents[0]\" from path column\n",
    "image_df = image_df.withColumn(\"path\", regexp_replace(\"path\", to_remove, \"\"))\n",
    "\n",
    "# Split the path into an array of elements\n",
    "split_path = split(image_df[\"path\"], \"/\")\n",
    "\n",
    "# Extract metadata from the file path\n",
    "image_final_df = (\n",
    "    image_df.withColumn(\"folder_name\", element_at(split_path, -4))\n",
    "    .withColumn(\"year\", element_at(split_path, -3))\n",
    "    .withColumn(\"binomial_name\", element_at(split_path, -2))\n",
    "    .withColumn(\"file_name\", element_at(split_path, -1))\n",
    ")\n",
    "\n",
    "# Select and rename columns to fit the target schema, including renaming 'content' to 'image_binary_data'\n",
    "image_final_df = image_final_df.select(\n",
    "    \"path\",\n",
    "    \"folder_name\",\n",
    "    \"year\",\n",
    "    \"binomial_name\",\n",
    "    \"file_name\",\n",
    "    image_final_df[\"content\"].alias(\"data\"),\n",
    ")\n",
    "\n",
    "# Create a new column \"image_path\" by removing \"/SnakeCLEF2023-small_size/\" from \"path\"\n",
    "image_final_df = image_final_df.withColumn(\n",
    "    \"image_path\", regexp_replace(\"path\", f\"^/{base_dir.parts[-1]}/\", \"\")\n",
    ")\n",
    "\n",
    "# Print Schema\n",
    "image_final_df.printSchema()"
   ]
  },
  {
   "cell_type": "code",
   "execution_count": null,
   "metadata": {},
   "outputs": [],
   "source": [
    "image_final_df.show(n=3, truncate=100)"
   ]
  },
  {
   "cell_type": "markdown",
   "metadata": {},
   "source": [
    "### join image_df with metadata from GCS"
   ]
  },
  {
   "cell_type": "code",
   "execution_count": null,
   "metadata": {},
   "outputs": [],
   "source": [
    "# Get list of stored filed in cloud bucket\n",
    "! gcloud storage ls gs://dsgt-clef-snakeclef-2024/raw"
   ]
  },
  {
   "cell_type": "code",
   "execution_count": null,
   "metadata": {},
   "outputs": [],
   "source": [
    "raw_root = \"gs://dsgt-clef-snakeclef-2024/raw/\"\n",
    "meta_dataset_name = \"SnakeCLEF2023-TrainMetadata-iNat\"\n",
    "\n",
    "# Read the iNaturalist metadata CSV file\n",
    "meta_df = spark.read.csv(\n",
    "    f\"{raw_root}/{meta_dataset_name}.csv\",\n",
    "    header=True,\n",
    "    inferSchema=True,\n",
    ")\n",
    "\n",
    "# Cache the DataFrame to optimize subsequent operations\n",
    "meta_df.cache()\n",
    "\n",
    "# Drop duplicate entries based on 'image_path' before the join\n",
    "meta_df = meta_df.dropDuplicates([\"image_path\"])\n",
    "\n",
    "# Drop 'binomial_name' column since before joining with image_final_df\n",
    "meta_final_df = meta_df.drop(\"binomial_name\")"
   ]
  },
  {
   "cell_type": "code",
   "execution_count": null,
   "metadata": {},
   "outputs": [],
   "source": [
    "meta_final_df.show(n=3, truncate=100)"
   ]
  },
  {
   "cell_type": "code",
   "execution_count": null,
   "metadata": {},
   "outputs": [],
   "source": [
    "meta_df.count()"
   ]
  },
  {
   "cell_type": "code",
   "execution_count": null,
   "metadata": {},
   "outputs": [],
   "source": [
    "# Perform an inner join on the 'image_path' column\n",
    "final_df = image_final_df.join(meta_final_df, \"image_path\", \"inner\")\n",
    "\n",
    "# Show the result to verify the join\n",
    "final_df.show(n=3, truncate=100)"
   ]
  },
  {
   "cell_type": "code",
   "execution_count": null,
   "metadata": {},
   "outputs": [],
   "source": [
    "final_df.count()"
   ]
  },
  {
   "cell_type": "code",
   "execution_count": null,
   "metadata": {},
   "outputs": [],
   "source": []
  }
 ],
 "metadata": {
  "kernelspec": {
   "display_name": "Python 3",
   "language": "python",
   "name": "python3"
  },
  "language_info": {
   "codemirror_mode": {
    "name": "ipython",
    "version": 3
   },
   "file_extension": ".py",
   "mimetype": "text/x-python",
   "name": "python",
   "nbconvert_exporter": "python",
   "pygments_lexer": "ipython3",
   "version": "3.10.12"
  }
 },
 "nbformat": 4,
 "nbformat_minor": 2
}
