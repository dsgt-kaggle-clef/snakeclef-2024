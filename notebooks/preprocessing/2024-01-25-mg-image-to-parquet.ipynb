{
 "cells": [
  {
   "cell_type": "markdown",
   "metadata": {},
   "source": [
    "# Image to Parquet\n",
    "Convert images to binary and save them into a parquet file."
   ]
  },
  {
   "cell_type": "code",
   "execution_count": 1,
   "metadata": {},
   "outputs": [],
   "source": [
    "import site\n",
    "from pathlib import Path\n",
    "from pyspark.sql import SparkSession\n",
    "\n",
    "%load_ext autoreload\n",
    "%autoreload 2"
   ]
  },
  {
   "cell_type": "code",
   "execution_count": 2,
   "metadata": {},
   "outputs": [
    {
     "name": "stderr",
     "output_type": "stream",
     "text": [
      "24/02/03 22:47:10 WARN NativeCodeLoader: Unable to load native-hadoop library for your platform... using builtin-java classes where applicable\n",
      "Setting default log level to \"WARN\".\n",
      "To adjust logging level use sc.setLogLevel(newLevel). For SparkR, use setLogLevel(newLevel).\n"
     ]
    },
    {
     "name": "stdout",
     "output_type": "stream",
     "text": [
      "<pyspark.sql.session.SparkSession object at 0x7f4e283fe170>\n"
     ]
    }
   ],
   "source": [
    "def get_gcs_connector_jar() -> str:\n",
    "    # Assuming the JAR is installed in the user site-packages of PySpark\n",
    "    user_site_packages = site.getusersitepackages()\n",
    "    jars_dir = Path(user_site_packages) / \"pyspark\" / \"jars\"\n",
    "    # Search for the GCS connector JAR\n",
    "    jar = [jar for jar in jars_dir.glob(\"gcs-connector-hadoop3-*.jar\")]\n",
    "    return str(jar[0])\n",
    "\n",
    "\n",
    "gcs_connector_jar = get_gcs_connector_jar()\n",
    "# Initialize Spark Session\n",
    "spark = (\n",
    "    SparkSession.builder.appName(\"Image2Parquet\")\n",
    "    .master(\"local[*]\")\n",
    "    .config(\"spark.jars\", gcs_connector_jar)\n",
    "    .getOrCreate()\n",
    ")\n",
    "print(spark)"
   ]
  },
  {
   "cell_type": "code",
   "execution_count": 3,
   "metadata": {},
   "outputs": [],
   "source": [
    "# Set Hadoop configurations for GCS\n",
    "sc = spark.sparkContext\n",
    "sc._jsc.hadoopConfiguration().set(\n",
    "    \"fs.gs.impl\", \"com.google.cloud.hadoop.fs.gcs.GoogleHadoopFileSystem\"\n",
    ")\n",
    "sc._jsc.hadoopConfiguration().set(\n",
    "    \"fs.AbstractFileSystem.gs.impl\", \"com.google.cloud.hadoop.fs.gcs.GoogleHadoopFS\"\n",
    ")"
   ]
  },
  {
   "cell_type": "code",
   "execution_count": null,
   "metadata": {},
   "outputs": [],
   "source": [
    "import os\n",
    "import logging\n",
    "\n",
    "# Setup logging\n",
    "logging.basicConfig(level=logging.INFO)\n",
    "\n",
    "# Base directory using pathlib\n",
    "curr_dir = Path(os.getcwd())\n",
    "base_dir = curr_dir.parents[1]\n",
    "data_dir = base_dir / \"data\" / \"SnakeCLEF2023-small_size\" / \"2023\"\n",
    "num_folders = 20\n",
    "\n",
    "# Ensure base directory exists\n",
    "if not data_dir.is_dir():\n",
    "    raise FileNotFoundError(f\"Data directory {data_dir} does not exist.\")\n",
    "\n",
    "# Getting subfolders\n",
    "subfolders = sorted([f.name for f in data_dir.iterdir() if f.is_dir()])[:num_folders]"
   ]
  },
  {
   "cell_type": "code",
   "execution_count": null,
   "metadata": {},
   "outputs": [],
   "source": [
    "# Schema for the DataFrame\n",
    "from pyspark.sql.types import StructType, StructField, BinaryType, StringType\n",
    "\n",
    "schema = StructType(\n",
    "    [\n",
    "        StructField(\"path\", StringType(), True),\n",
    "        StructField(\"folder_name\", StringType(), True),\n",
    "        StructField(\"year\", StringType(), True),\n",
    "        StructField(\"binomial_name\", StringType(), True),\n",
    "        StructField(\"file_name\", StringType(), True),\n",
    "        StructField(\"image_binary_data\", BinaryType(), True),\n",
    "    ]\n",
    ")\n",
    "\n",
    "\n",
    "# Function to convert image to binary\n",
    "def image_to_binary(image_path):\n",
    "    with open(image_path, \"rb\") as file:\n",
    "        return file.read()"
   ]
  },
  {
   "cell_type": "code",
   "execution_count": null,
   "metadata": {},
   "outputs": [],
   "source": [
    "# Create an empty RDD\n",
    "image_rdd = spark.sparkContext.emptyRDD()\n",
    "\n",
    "# Loop through subfolders and process images\n",
    "for folder in subfolders:\n",
    "    folder_path = data_dir / folder\n",
    "    for img_name in os.listdir(folder_path):\n",
    "        img_path = folder_path / img_name\n",
    "        relative_path = img_path.relative_to(base_dir)  # Get relative path\n",
    "        relative_path = str(relative_path).split(\"data/\")[-1]\n",
    "        folder_name = relative_path.split(\"/\")[0]\n",
    "        year = relative_path.split(\"/\")[1]\n",
    "        binomial_name = relative_path.split(\"/\")[2]\n",
    "        file_name = relative_path.split(\"/\")[-1]\n",
    "        # print(f\"{folder_name}, {year}, {binomial_name}, {file_name}\")\n",
    "        binary_data = image_to_binary(str(img_path))\n",
    "        image_rdd = image_rdd.union(\n",
    "            spark.sparkContext.parallelize(\n",
    "                [\n",
    "                    (\n",
    "                        relative_path,\n",
    "                        folder_name,\n",
    "                        year,\n",
    "                        binomial_name,\n",
    "                        file_name,\n",
    "                        binary_data,\n",
    "                    )\n",
    "                ]\n",
    "            )\n",
    "        )"
   ]
  },
  {
   "cell_type": "code",
   "execution_count": null,
   "metadata": {},
   "outputs": [],
   "source": [
    "# Convert RDD to DataFrame\n",
    "image_df = spark.createDataFrame(image_rdd, schema)\n",
    "\n",
    "# Show the first few rows of image_df\n",
    "image_df.show(n=5)"
   ]
  },
  {
   "cell_type": "code",
   "execution_count": null,
   "metadata": {},
   "outputs": [],
   "source": [
    "# Base directory for parquet_files folder\n",
    "data_dir = Path(os.getcwd()).parents[1] / \"data\"\n",
    "\n",
    "# Create \"parquet_files\" directory if it doesn't exist\n",
    "parquet_dir = data_dir / \"parquet_files\"\n",
    "os.makedirs(parquet_dir, exist_ok=True)"
   ]
  },
  {
   "cell_type": "code",
   "execution_count": null,
   "metadata": {},
   "outputs": [],
   "source": [
    "# Path to the Parquet file\n",
    "parquet_file_path = parquet_dir / \"images_data.parquet\"\n",
    "\n",
    "# Save the DataFrame as a Parquet file\n",
    "image_df.write.mode(\"overwrite\").parquet(str(parquet_file_path))"
   ]
  },
  {
   "cell_type": "code",
   "execution_count": null,
   "metadata": {},
   "outputs": [],
   "source": [
    "image_df.printSchema()"
   ]
  },
  {
   "cell_type": "code",
   "execution_count": null,
   "metadata": {},
   "outputs": [],
   "source": [
    "def get_size_of_parquet(dir_path):\n",
    "    total_size = 0\n",
    "    for root, dirs, files in os.walk(dir_path):\n",
    "        for file in files:\n",
    "            total_size += os.path.getsize(os.path.join(root, file))\n",
    "    return total_size\n",
    "\n",
    "\n",
    "# Get the size of the Parquet file (directory)\n",
    "parquet_size = get_size_of_parquet(parquet_file_path)\n",
    "print(f\"Size of Parquet file: {parquet_size} bytes\")"
   ]
  },
  {
   "cell_type": "code",
   "execution_count": null,
   "metadata": {},
   "outputs": [],
   "source": [
    "# Define the GCS path\n",
    "gcs_path = \"gs://dsgt-clef-snakeclef-2024/data/parquet_files/image_data\"\n",
    "\n",
    "# Write the DataFrame to GCS\n",
    "image_df.write.mode(\"overwrite\").parquet(gcs_path)"
   ]
  },
  {
   "cell_type": "markdown",
   "metadata": {},
   "source": [
    "## Load DataFrame from GCS"
   ]
  },
  {
   "cell_type": "code",
   "execution_count": null,
   "metadata": {},
   "outputs": [],
   "source": [
    "from snakeclef.utils import get_spark\n",
    "\n",
    "spark = get_spark()\n",
    "display(spark)"
   ]
  },
  {
   "cell_type": "code",
   "execution_count": null,
   "metadata": {},
   "outputs": [],
   "source": [
    "# Define the GCS path to the Parquet file\n",
    "gcs_parquet_path = \"gs://dsgt-clef-snakeclef-2024/data/parquet_files/image_data\"\n",
    "\n",
    "# Read the Parquet file into a DataFrame\n",
    "df = spark.read.parquet(gcs_parquet_path)\n",
    "\n",
    "# Show the data (for example, first few rows)\n",
    "df.show(n=3)"
   ]
  },
  {
   "cell_type": "code",
   "execution_count": null,
   "metadata": {},
   "outputs": [],
   "source": [
    "import io\n",
    "import numpy as np\n",
    "import matplotlib.pyplot as plt\n",
    "from PIL import Image\n",
    "\n",
    "\n",
    "def display_images_from_binary(image_data_list, binomial_names, grid_size=(3, 3)):\n",
    "    \"\"\"\n",
    "    Display images in a grid with binomial names as labels.\n",
    "\n",
    "    :param image_data_list: List of binary image data.\n",
    "    :param binomial_names: List of binomial names corresponding to each image.\n",
    "    :param grid_size: Tuple (rows, cols) representing the grid size.\n",
    "    \"\"\"\n",
    "    # Unpack the number of rows and columns for the grid\n",
    "    rows, cols = grid_size\n",
    "\n",
    "    # Create a matplotlib subplot with the specified grid size\n",
    "    fig, axes = plt.subplots(rows, cols, figsize=(12, 12), dpi=80)\n",
    "\n",
    "    # Flatten the axes array for easy iteration if it's 2D\n",
    "    axes = axes.flatten() if isinstance(axes, np.ndarray) else [axes]\n",
    "\n",
    "    for ax, binary_data, name in zip(axes, image_data_list, binomial_names):\n",
    "        # Convert binary data to an image and display it\n",
    "        image = Image.open(io.BytesIO(binary_data))\n",
    "        ax.imshow(image)\n",
    "        name = name.replace(\"_\", \" \")\n",
    "        ax.set_xlabel(name)  # Set the binomial name as xlabel\n",
    "        ax.xaxis.label.set_size(14)  # Set the font size for the xlabel\n",
    "        ax.set_xticks([])\n",
    "        ax.set_yticks([])\n",
    "    plt.tight_layout()\n",
    "    plt.show()"
   ]
  },
  {
   "cell_type": "code",
   "execution_count": null,
   "metadata": {},
   "outputs": [],
   "source": [
    "# Collect binary image data from DataFrame\n",
    "rows, cols = 3, 3\n",
    "image_data_list = [row[\"image_binary_data\"] for row in df.limit(rows * cols).collect()]\n",
    "binomial_names = [row[\"binomial_name\"] for row in df.limit(rows * cols).collect()]\n",
    "\n",
    "# Display the images in a grid with binomial names\n",
    "display_images_from_binary(image_data_list, binomial_names, grid_size=(3, 3))"
   ]
  },
  {
   "cell_type": "markdown",
   "metadata": {},
   "source": [
    "## Join image DataFrame with Metadata files"
   ]
  },
  {
   "cell_type": "code",
   "execution_count": 4,
   "metadata": {},
   "outputs": [],
   "source": [
    "import os\n",
    "from pyspark.sql.functions import lit, regexp_extract, regexp_replace"
   ]
  },
  {
   "cell_type": "code",
   "execution_count": 5,
   "metadata": {},
   "outputs": [
    {
     "name": "stderr",
     "output_type": "stream",
     "text": [
      "24/02/03 22:47:26 WARN SharedInMemoryCache: Evicting cached table partition metadata from memory due to size constraints (spark.sql.hive.filesourcePartitionFileCacheSize = 262144000 bytes). This may impact query planning performance.\n"
     ]
    },
    {
     "name": "stdout",
     "output_type": "stream",
     "text": [
      "root\n",
      " |-- path: string (nullable = true)\n",
      " |-- folder_name: string (nullable = false)\n",
      " |-- year: string (nullable = true)\n",
      " |-- binomial_name: string (nullable = true)\n",
      " |-- file_name: string (nullable = true)\n",
      " |-- image_binary_data: binary (nullable = true)\n",
      "\n"
     ]
    }
   ],
   "source": [
    "# Base directory using pathlib\n",
    "curr_dir = Path(os.getcwd())\n",
    "base_dir = curr_dir.parents[1]\n",
    "base_dir = base_dir / \"data\" / \"SnakeCLEF2023-small_size\"\n",
    "\n",
    "# Load all files from the base directory as binary data\n",
    "# Convert Path object to string when passing to PySpark\n",
    "image_df = (\n",
    "    spark.read.format(\"binaryFile\")\n",
    "    .option(\"pathGlobFilter\", \"*.jpg\")\n",
    "    .option(\"recursiveFileLookup\", \"true\")\n",
    "    .load(str(base_dir))\n",
    ")\n",
    "\n",
    "# Construct the string to be replaced - adjust this based on your actual base path\n",
    "to_remove = \"file:\" + str(base_dir.parents[0])\n",
    "\n",
    "# Extract metadata from the file path\n",
    "image_final_df = (\n",
    "    image_df.withColumn(\"path\", regexp_replace(\"path\", to_remove, \"\"))\n",
    "    .withColumn(\"folder_name\", lit(\"SnakeCLEF2023-small_size\"))\n",
    "    .withColumn(\"year\", regexp_extract(\"path\", \".*/(\\\\d{4})/.*\", 1))\n",
    "    .withColumn(\"binomial_name\", regexp_extract(\"path\", \".*/(\\\\d{4})/(.*)/.*\", 2))\n",
    "    .withColumn(\"file_name\", regexp_extract(\"path\", \".*/([^/]+)$\", 1))\n",
    ")\n",
    "\n",
    "# Select and rename columns to fit the target schema, including renaming 'content' to 'image_binary_data'\n",
    "image_final_df = image_final_df.select(\n",
    "    \"path\",\n",
    "    \"folder_name\",\n",
    "    \"year\",\n",
    "    \"binomial_name\",\n",
    "    \"file_name\",\n",
    "    image_final_df[\"content\"].alias(\"image_binary_data\"),\n",
    ")\n",
    "\n",
    "# Print Schema\n",
    "image_final_df.printSchema()"
   ]
  },
  {
   "cell_type": "code",
   "execution_count": 6,
   "metadata": {},
   "outputs": [
    {
     "name": "stderr",
     "output_type": "stream",
     "text": [
      "                                                                                \r"
     ]
    },
    {
     "name": "stdout",
     "output_type": "stream",
     "text": [
      "+--------------------------------------------------------------------+------------------------+----+-------------------------+------------+----------------------------------------------------------------------------------------------------+\n",
      "|                                                                path|             folder_name|year|            binomial_name|   file_name|                                                                                   image_binary_data|\n",
      "+--------------------------------------------------------------------+------------------------+----+-------------------------+------------+----------------------------------------------------------------------------------------------------+\n",
      "|     /SnakeCLEF2023-small_size/2010/Dendrelaphis_pictus/49119484.jpg|SnakeCLEF2023-small_size|2010|      Dendrelaphis_pictus|49119484.jpg|[FF D8 FF E0 00 10 4A 46 49 46 00 01 01 00 00 01 00 01 00 00 FF E2 FF FF 49 43 43 5F 50 52 4F 46 ...|\n",
      "|   /SnakeCLEF2023-small_size/2017/Laticauda_laticaudata/98017463.jpg|SnakeCLEF2023-small_size|2017|    Laticauda_laticaudata|98017463.jpg|[FF D8 FF EE 00 0E 41 64 6F 62 65 00 64 00 00 00 00 02 FF E2 FF FF 49 43 43 5F 50 52 4F 46 49 4C ...|\n",
      "|/SnakeCLEF2023-small_size/2015/Thamnophis_chrysocephalus/2315801.jpg|SnakeCLEF2023-small_size|2015|Thamnophis_chrysocephalus| 2315801.jpg|[FF D8 FF E0 00 10 4A 46 49 46 00 01 01 01 00 48 00 48 00 00 FF DB 00 43 00 01 01 01 01 01 01 01 ...|\n",
      "+--------------------------------------------------------------------+------------------------+----+-------------------------+------------+----------------------------------------------------------------------------------------------------+\n",
      "only showing top 3 rows\n",
      "\n"
     ]
    }
   ],
   "source": [
    "image_final_df.show(n=3, truncate=100)"
   ]
  },
  {
   "cell_type": "markdown",
   "metadata": {},
   "source": [
    "### join image_df with metadata from GCS"
   ]
  },
  {
   "cell_type": "code",
   "execution_count": 7,
   "metadata": {},
   "outputs": [
    {
     "name": "stdout",
     "output_type": "stream",
     "text": [
      "gs://dsgt-clef-snakeclef-2024/raw/SnakeCLEF2023-PubTestMetadata.csv\n",
      "gs://dsgt-clef-snakeclef-2024/raw/SnakeCLEF2023-TrainMetadata-HM.csv\n",
      "gs://dsgt-clef-snakeclef-2024/raw/SnakeCLEF2023-TrainMetadata-iNat.csv\n",
      "gs://dsgt-clef-snakeclef-2024/raw/SnakeCLEF2023-ValMetadata.csv\n",
      "gs://dsgt-clef-snakeclef-2024/raw/SnakeCLEF2023-pubtest.tar.gz\n",
      "gs://dsgt-clef-snakeclef-2024/raw/SnakeCLEF2023-train-large_size.tar.gz\n",
      "gs://dsgt-clef-snakeclef-2024/raw/SnakeCLEF2023-train-medium_size.tar.gz\n",
      "gs://dsgt-clef-snakeclef-2024/raw/SnakeCLEF2023-train-small_size.tar.gz\n",
      "gs://dsgt-clef-snakeclef-2024/raw/SnakeCLEF2023-trainHMP.tar.gz\n",
      "gs://dsgt-clef-snakeclef-2024/raw/SnakeCLEF2023-val-large_size.tar.gz\n",
      "gs://dsgt-clef-snakeclef-2024/raw/SnakeCLEF2023-val-medium_size.tar.gz\n",
      "gs://dsgt-clef-snakeclef-2024/raw/SnakeCLEF2023-val-small_size.tar.gz\n",
      "gs://dsgt-clef-snakeclef-2024/raw/urls.txt\n"
     ]
    }
   ],
   "source": [
    "# Get list of stored filed in cloud bucket\n",
    "! gcloud storage ls gs://dsgt-clef-snakeclef-2024/raw"
   ]
  },
  {
   "cell_type": "code",
   "execution_count": 8,
   "metadata": {},
   "outputs": [
    {
     "name": "stderr",
     "output_type": "stream",
     "text": [
      "[Stage 5:==============>                                            (1 + 3) / 4]\r"
     ]
    },
    {
     "name": "stdout",
     "output_type": "stream",
     "text": [
      "root\n",
      " |-- observation_id: string (nullable = true)\n",
      " |-- binomial_name: string (nullable = true)\n",
      " |-- image_path: string (nullable = true)\n",
      " |-- subset: string (nullable = true)\n",
      " |-- code: string (nullable = true)\n",
      " |-- endemic: boolean (nullable = true)\n",
      " |-- class_id: integer (nullable = true)\n",
      "\n",
      "root\n",
      " |-- observation_id: integer (nullable = true)\n",
      " |-- endemic: boolean (nullable = true)\n",
      " |-- binomial_name: string (nullable = true)\n",
      " |-- code: string (nullable = true)\n",
      " |-- image_path: string (nullable = true)\n",
      " |-- class_id: integer (nullable = true)\n",
      " |-- subset: string (nullable = true)\n",
      "\n"
     ]
    },
    {
     "name": "stderr",
     "output_type": "stream",
     "text": [
      "                                                                                \r"
     ]
    }
   ],
   "source": [
    "from pyspark.sql import functions as F\n",
    "\n",
    "# Root directory\n",
    "raw_root = \"gs://dsgt-clef-snakeclef-2024/raw/\"\n",
    "\n",
    "train_meta_hm = spark.read.csv(\n",
    "    f\"{raw_root}/SnakeCLEF2023-TrainMetadata-HM.csv\", header=True, inferSchema=True\n",
    ")\n",
    "train_meta_inat = spark.read.csv(\n",
    "    f\"{raw_root}/SnakeCLEF2023-TrainMetadata-iNat.csv\", header=True, inferSchema=True\n",
    ")\n",
    "\n",
    "train_meta_hm.printSchema()\n",
    "train_meta_inat.printSchema()"
   ]
  },
  {
   "cell_type": "code",
   "execution_count": 9,
   "metadata": {},
   "outputs": [
    {
     "name": "stderr",
     "output_type": "stream",
     "text": [
      "[Stage 11:>                                                         (0 + 1) / 1]\r"
     ]
    },
    {
     "name": "stdout",
     "output_type": "stream",
     "text": [
      "+--------------+-------+--------------------+----+--------------------+--------+--------+\n",
      "|observation_id|endemic|       binomial_name|code|          image_path|class_id|  subset|\n",
      "+--------------+-------+--------------------+----+--------------------+--------+--------+\n",
      "|         42265|   true|     Liodytes pygaea|  US|HMP/Liodytes_pyga...|     933|train-hm|\n",
      "|        317846|   true|     Liodytes pygaea|  US|HMP/Liodytes_pyga...|     933|train-hm|\n",
      "|        325731|   true|       Crotalus enyo|  MX|HMP/Crotalus_enyo...|     414|train-hm|\n",
      "|        114227|  false|  Contia longicaudae|  US|HMP/Contia_longic...|     378|train-hm|\n",
      "|        128559|  false|  Contia longicaudae|  US|HMP/Contia_longic...|     378|train-hm|\n",
      "|        375354|  false|  Contia longicaudae|  US|HMP/Contia_longic...|     378|train-hm|\n",
      "|        127773|   true|      Micrurus tener|  US|HMP/Micrurus_tene...|    1082|train-hm|\n",
      "|        280822|  false| Dendrelaphis pictus|  ID|HMP/Dendrelaphis_...|     499|train-hm|\n",
      "|        371671|  false|Drymarchon melanurus|  US|HMP/Drymarchon_me...|     571|train-hm|\n",
      "|        272875|  false|        Ptyas korros|  TH|HMP/Ptyas_korros/...|    1412|train-hm|\n",
      "|        263682|  false| Xenopeltis unicolor|  TH|HMP/Xenopeltis_un...|    1769|train-hm|\n",
      "|        317094|   true|    Natrix helvetica|  GB|HMP/Natrix_helvet...|    1135|train-hm|\n",
      "|        262585|  false|Bothriechis schle...|  CR|HMP/Bothriechis_s...|     211|train-hm|\n",
      "|        318812|  false|Pareas margaritop...|  HK|HMP/Pareas_margar...|    1252|train-hm|\n",
      "|          5074|  false|Bogertophis suboc...|  US|HMP/Bogertophis_s...|     177|train-hm|\n",
      "|          5126|  false|Bogertophis suboc...|  MX|HMP/Bogertophis_s...|     177|train-hm|\n",
      "|        265530|  false|Lycodon travancor...|  IN|HMP/Lycodon_trava...|     972|train-hm|\n",
      "|         51349|   true|  Drymarchon couperi|  US|HMP/Drymarchon_co...|     570|train-hm|\n",
      "|        300527|  false|     Sibon nebulatus|  GT|HMP/Sibon_nebulat...|    1504|train-hm|\n",
      "|        280948|  false|   Lycodon capucinus|  ID|HMP/Lycodon_capuc...|     951|train-hm|\n",
      "+--------------+-------+--------------------+----+--------------------+--------+--------+\n",
      "only showing top 20 rows\n",
      "\n"
     ]
    },
    {
     "name": "stderr",
     "output_type": "stream",
     "text": [
      "                                                                                \r"
     ]
    }
   ],
   "source": [
    "meta_df = (\n",
    "    (\n",
    "        # make this table consistent with the inat one\n",
    "        train_meta_hm.withColumn(\n",
    "            \"observation_id\", F.split(\"observation_id\", \" \")[1].cast(\"int\")\n",
    "        ).select(train_meta_inat.columns)\n",
    "    )\n",
    "    .union(train_meta_inat)\n",
    "    .dropDuplicates()\n",
    "    .repartition(1)\n",
    ").cache()\n",
    "meta_df.show()"
   ]
  },
  {
   "cell_type": "code",
   "execution_count": 10,
   "metadata": {},
   "outputs": [
    {
     "name": "stdout",
     "output_type": "stream",
     "text": [
      "168139\n",
      "34847\n",
      "+----------+-----+\n",
      "|image_path|count|\n",
      "+----------+-----+\n",
      "+----------+-----+\n",
      "\n"
     ]
    }
   ],
   "source": [
    "# check if there are duplicate ids\n",
    "print(meta_df.count())\n",
    "print(meta_df.groupBy(\"observation_id\").count().where(\"count > 1\").count())\n",
    "\n",
    "# check if there are duplicate paths?\n",
    "meta_df.groupBy(\"image_path\").count().where(\"count > 1\").show()"
   ]
  },
  {
   "cell_type": "code",
   "execution_count": 11,
   "metadata": {},
   "outputs": [
    {
     "data": {
      "text/plain": [
       "(68495,\n",
       " [PosixPath('1990/Amphiesma_stolatum/59067968.jpg'),\n",
       "  PosixPath('1990/Elaphe_schrenckii/57902708.jpg'),\n",
       "  PosixPath('1990/Gloydius_intermedius/57909018.jpg'),\n",
       "  PosixPath('1990/Lachesis_muta/42704088.jpg'),\n",
       "  PosixPath('1990/Lampropeltis_annulata/7437403.jpg'),\n",
       "  PosixPath('1990/Oligodon_taeniatus/59067926.jpg'),\n",
       "  PosixPath('1990/Xenoxybelis_argenteus/113910655.jpg'),\n",
       "  PosixPath('1990/Xenoxybelis_argenteus/113910659.jpg'),\n",
       "  PosixPath('1990/Zamenis_lineatus/3001242.jpg'),\n",
       "  PosixPath('1991/Bitis_arietans/1250455.jpg')])"
      ]
     },
     "execution_count": 11,
     "metadata": {},
     "output_type": "execute_result"
    }
   ],
   "source": [
    "# let's grab all the paths\n",
    "train_root = Path(\"/mnt/data/SnakeCLEF2023-small_size\")\n",
    "paths = sorted([p.relative_to(train_root) for p in train_root.glob(\"**/*.jpg\")])\n",
    "len(paths), paths[:10]"
   ]
  },
  {
   "cell_type": "code",
   "execution_count": 12,
   "metadata": {},
   "outputs": [
    {
     "name": "stderr",
     "output_type": "stream",
     "text": [
      "[Stage 24:>                                                         (0 + 1) / 1]\r"
     ]
    },
    {
     "name": "stdout",
     "output_type": "stream",
     "text": [
      "+--------------------------------------+\n",
      "|                                  path|\n",
      "+--------------------------------------+\n",
      "|  1990/Amphiesma_stolatum/59067968.jpg|\n",
      "|   1990/Elaphe_schrenckii/57902708.jpg|\n",
      "|1990/Gloydius_intermedius/57909018.jpg|\n",
      "|       1990/Lachesis_muta/42704088.jpg|\n",
      "|1990/Lampropeltis_annulata/7437403.jpg|\n",
      "+--------------------------------------+\n",
      "only showing top 5 rows\n",
      "\n"
     ]
    },
    {
     "name": "stderr",
     "output_type": "stream",
     "text": [
      "                                                                                \r"
     ]
    }
   ],
   "source": [
    "from pyspark.sql import Row\n",
    "\n",
    "path_df = spark.createDataFrame([Row(path=p.as_posix()) for p in paths])\n",
    "path_df.show(n=5, truncate=100)"
   ]
  },
  {
   "cell_type": "code",
   "execution_count": 13,
   "metadata": {},
   "outputs": [
    {
     "name": "stdout",
     "output_type": "stream",
     "text": [
      "+------------------------------+\n",
      "|image_path                    |\n",
      "+------------------------------+\n",
      "|HMP/Liodytes_pygaea/63985.jpg |\n",
      "|HMP/Liodytes_pygaea/436163.jpg|\n",
      "|HMP/Crotalus_enyo/448622.jpg  |\n",
      "+------------------------------+\n",
      "only showing top 3 rows\n",
      "\n"
     ]
    },
    {
     "name": "stderr",
     "output_type": "stream",
     "text": [
      "[Stage 31:>                                                         (0 + 1) / 1]\r"
     ]
    },
    {
     "name": "stdout",
     "output_type": "stream",
     "text": [
      "+--------------------+--------------+-------+--------------------+----+--------------------+--------+------+\n",
      "|                path|observation_id|endemic|       binomial_name|code|          image_path|class_id|subset|\n",
      "+--------------------+--------------+-------+--------------------+----+--------------------+--------+------+\n",
      "|Amphiesma_stolatu...|      37280129|  false|  Amphiesma stolatum|  TH|1990/Amphiesma_st...|      66| train|\n",
      "|Gloydius_intermed...|      36619782|  false|Gloydius intermedius|  RU|1990/Gloydius_int...|     741| train|\n",
      "|Lampropeltis_annu...|       5954637|  false|Lampropeltis annu...|  US|1990/Lampropeltis...|     861| train|\n",
      "|Vermicella_annula...|       8160866|   true| Vermicella annulata|  AU|2017/Vermicella_a...|    1732| train|\n",
      "|Vipera_ammodytes/...|      10925624|  false|    Vipera ammodytes|  RS|2017/Vipera_ammod...|    1734| train|\n",
      "+--------------------+--------------+-------+--------------------+----+--------------------+--------+------+\n",
      "only showing top 5 rows\n",
      "\n"
     ]
    },
    {
     "name": "stderr",
     "output_type": "stream",
     "text": [
      "                                                                                \r"
     ]
    }
   ],
   "source": [
    "meta_df.select(\"image_path\").show(n=3, truncate=False)\n",
    "\n",
    "\n",
    "def remove_leading_parent(col):\n",
    "    \"\"\"remove the leading parent directory from the path\n",
    "\n",
    "    e.g. 1992/Lampropeltis_annulata/70994554.jpg turns into Lampropeltis_annulata/70994554.jpg\n",
    "    \"\"\"\n",
    "    return F.regexp_replace(col, \"^(.+?)\\/\", \"\")\n",
    "\n",
    "\n",
    "# let's join the two tables\n",
    "joined_meta_df = meta_df.withColumn(\"path\", remove_leading_parent(\"image_path\")).join(\n",
    "    path_df.withColumn(\"path\", remove_leading_parent(\"path\")), on=\"path\", how=\"right\"\n",
    ")\n",
    "\n",
    "joined_meta_df.show(n=5)"
   ]
  },
  {
   "cell_type": "code",
   "execution_count": 14,
   "metadata": {},
   "outputs": [
    {
     "name": "stderr",
     "output_type": "stream",
     "text": [
      "                                                                                \r"
     ]
    },
    {
     "data": {
      "text/plain": [
       "(68495, 68495)"
      ]
     },
     "execution_count": 14,
     "metadata": {},
     "output_type": "execute_result"
    }
   ],
   "source": [
    "# any missing rows on the left will be filled with nulls\n",
    "joined_meta_df.where(\"image_path is not null\").count(), path_df.count()"
   ]
  },
  {
   "cell_type": "code",
   "execution_count": null,
   "metadata": {},
   "outputs": [],
   "source": []
  },
  {
   "cell_type": "code",
   "execution_count": null,
   "metadata": {},
   "outputs": [],
   "source": []
  }
 ],
 "metadata": {
  "kernelspec": {
   "display_name": "Python 3",
   "language": "python",
   "name": "python3"
  },
  "language_info": {
   "codemirror_mode": {
    "name": "ipython",
    "version": 3
   },
   "file_extension": ".py",
   "mimetype": "text/x-python",
   "name": "python",
   "nbconvert_exporter": "python",
   "pygments_lexer": "ipython3",
   "version": "3.10.12"
  }
 },
 "nbformat": 4,
 "nbformat_minor": 2
}
