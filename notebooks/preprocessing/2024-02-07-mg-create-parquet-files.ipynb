{
 "cells": [
  {
   "cell_type": "markdown",
   "metadata": {},
   "source": [
    "## Create parquet files in GCS"
   ]
  },
  {
   "cell_type": "code",
   "execution_count": 1,
   "metadata": {},
   "outputs": [],
   "source": [
    "%load_ext autoreload\n",
    "%autoreload 2"
   ]
  },
  {
   "cell_type": "code",
   "execution_count": 2,
   "metadata": {},
   "outputs": [
    {
     "name": "stderr",
     "output_type": "stream",
     "text": [
      "Setting default log level to \"WARN\".\n",
      "To adjust logging level use sc.setLogLevel(newLevel). For SparkR, use setLogLevel(newLevel).\n",
      "24/02/07 17:09:29 WARN NativeCodeLoader: Unable to load native-hadoop library for your platform... using builtin-java classes where applicable\n",
      "24/02/07 17:09:30 WARN SparkConf: Note that spark.local.dir will be overridden by the value set by the cluster manager (via SPARK_LOCAL_DIRS in mesos/standalone/kubernetes and LOCAL_DIRS in YARN).\n"
     ]
    },
    {
     "data": {
      "text/html": [
       "\n",
       "            <div>\n",
       "                <p><b>SparkSession - in-memory</b></p>\n",
       "                \n",
       "        <div>\n",
       "            <p><b>SparkContext</b></p>\n",
       "\n",
       "            <p><a href=\"http://snakeclef-dev.us-central1-a.c.dsgt-clef-2024.internal:4040\">Spark UI</a></p>\n",
       "\n",
       "            <dl>\n",
       "              <dt>Version</dt>\n",
       "                <dd><code>v3.5.0</code></dd>\n",
       "              <dt>Master</dt>\n",
       "                <dd><code>local[*]</code></dd>\n",
       "              <dt>AppName</dt>\n",
       "                <dd><code>pyspark-shell</code></dd>\n",
       "            </dl>\n",
       "        </div>\n",
       "        \n",
       "            </div>\n",
       "        "
      ],
      "text/plain": [
       "<pyspark.sql.session.SparkSession at 0x7fa79ffb9870>"
      ]
     },
     "metadata": {},
     "output_type": "display_data"
    }
   ],
   "source": [
    "from snakeclef.utils import get_spark\n",
    "import os\n",
    "from pathlib import Path\n",
    "\n",
    "spark = get_spark()\n",
    "display(spark)"
   ]
  },
  {
   "cell_type": "code",
   "execution_count": 3,
   "metadata": {},
   "outputs": [
    {
     "name": "stdout",
     "output_type": "stream",
     "text": [
      "gs://dsgt-clef-snakeclef-2024/data/parquet_files/\n",
      "\n",
      "gs://dsgt-clef-snakeclef-2024/data/parquet_files/:\n",
      "gs://dsgt-clef-snakeclef-2024/data/parquet_files/\n",
      "gs://dsgt-clef-snakeclef-2024/data/parquet_files/SnakeCLEF2023-train-large_size/\n",
      "gs://dsgt-clef-snakeclef-2024/data/parquet_files/SnakeCLEF2023-train-medium_size/\n",
      "gs://dsgt-clef-snakeclef-2024/data/parquet_files/SnakeCLEF2023-train-small_size/\n",
      "gs://dsgt-clef-snakeclef-2024/data/parquet_files/acm_image_data_test_repartition/\n"
     ]
    }
   ],
   "source": [
    "# Get list of stored filed in cloud bucket\n",
    "! gcloud storage ls gs://dsgt-clef-snakeclef-2024/data/parquet_files/"
   ]
  },
  {
   "cell_type": "code",
   "execution_count": 4,
   "metadata": {},
   "outputs": [
    {
     "name": "stdout",
     "output_type": "stream",
     "text": [
      "/home/mgustine/snakeclef-2024\n"
     ]
    }
   ],
   "source": [
    "# Get current directory\n",
    "curr_dir = Path(os.getcwd())\n",
    "\n",
    "# Change to the project directory to run the scripts\n",
    "os.chdir(curr_dir.parents[1])"
   ]
  },
  {
   "cell_type": "code",
   "execution_count": 5,
   "metadata": {},
   "outputs": [],
   "source": [
    "import os\n",
    "\n",
    "\n",
    "def process_dataset(dataset_name, meta_dataset_name, delete_dataset: bool = True):\n",
    "    # Define the base directory\n",
    "    base_dir = \"/mnt/data\"\n",
    "\n",
    "    # Define the path for the script and Python script\n",
    "    script_path = \"./scripts/download_extract_dataset.sh\"\n",
    "    python_script_path = \"./snakeclef/images_to_parquet.py\"\n",
    "\n",
    "    # Define the GCS paths\n",
    "    gcs_path = f\"gs://dsgt-clef-snakeclef-2024/raw/{dataset_name}.tar.gz\"\n",
    "    output_path = f\"gs://dsgt-clef-snakeclef-2024/data/parquet_files/{dataset_name}\"\n",
    "\n",
    "    # Adjust the dataset_name for the --dataset-name parameter\n",
    "    adjusted_dataset_name = (\n",
    "        dataset_name.replace(\"train-\", \"\")\n",
    "        .replace(\"val-\", \"\")\n",
    "        .replace(\"pubtest\", \"pubtest\")\n",
    "    )\n",
    "\n",
    "    # Download and extract the dataset\n",
    "    os.system(f\"{script_path} {gcs_path} {base_dir}\")\n",
    "\n",
    "    # Create parquet file\n",
    "    os.system(\n",
    "        f\"python {python_script_path} --output-path {output_path} --dataset-name {adjusted_dataset_name} --meta-dataset-name {meta_dataset_name}\"\n",
    "    )\n",
    "\n",
    "    if delete_dataset:\n",
    "        # Delete dataset locally before loading the next one\n",
    "        local_data_path = f\"./data/{adjusted_dataset_name}\"\n",
    "        local_tar_path = f\"./data/{dataset_name}.tar.gz\"\n",
    "        os.system(f\"rm -rf {local_data_path}\")\n",
    "        os.system(f\"rm -f {local_tar_path}\")"
   ]
  },
  {
   "cell_type": "markdown",
   "metadata": {},
   "source": [
    "### train small size"
   ]
  },
  {
   "cell_type": "code",
   "execution_count": null,
   "metadata": {},
   "outputs": [],
   "source": [
    "# Define dataset names\n",
    "data_name = \"SnakeCLEF2023-train-small_size\"\n",
    "meta_name = \"SnakeCLEF2023-TrainMetadata-iNat\"\n",
    "\n",
    "# Process the data\n",
    "process_dataset(dataset_name=data_name, meta_dataset_name=meta_name)"
   ]
  },
  {
   "cell_type": "markdown",
   "metadata": {},
   "source": [
    "### train medium size"
   ]
  },
  {
   "cell_type": "code",
   "execution_count": null,
   "metadata": {},
   "outputs": [],
   "source": [
    "# Define dataset names\n",
    "data_name = \"SnakeCLEF2023-train-medium_size\"\n",
    "meta_name = \"SnakeCLEF2023-TrainMetadata-iNat\"\n",
    "\n",
    "# Process the data\n",
    "process_dataset(dataset_name=data_name, meta_dataset_name=meta_name)"
   ]
  },
  {
   "cell_type": "markdown",
   "metadata": {},
   "source": [
    "### train large size"
   ]
  },
  {
   "cell_type": "code",
   "execution_count": null,
   "metadata": {},
   "outputs": [],
   "source": [
    "# Define dataset names\n",
    "data_name = \"SnakeCLEF2023-train-large_size\"\n",
    "meta_name = \"SnakeCLEF2023-TrainMetadata-iNat\"\n",
    "\n",
    "# Process the data\n",
    "process_dataset(dataset_name=data_name, meta_dataset_name=meta_name)"
   ]
  },
  {
   "cell_type": "code",
   "execution_count": null,
   "metadata": {},
   "outputs": [],
   "source": []
  }
 ],
 "metadata": {
  "kernelspec": {
   "display_name": "Python 3",
   "language": "python",
   "name": "python3"
  },
  "language_info": {
   "codemirror_mode": {
    "name": "ipython",
    "version": 3
   },
   "file_extension": ".py",
   "mimetype": "text/x-python",
   "name": "python",
   "nbconvert_exporter": "python",
   "pygments_lexer": "ipython3",
   "version": "3.10.12"
  }
 },
 "nbformat": 4,
 "nbformat_minor": 2
}
