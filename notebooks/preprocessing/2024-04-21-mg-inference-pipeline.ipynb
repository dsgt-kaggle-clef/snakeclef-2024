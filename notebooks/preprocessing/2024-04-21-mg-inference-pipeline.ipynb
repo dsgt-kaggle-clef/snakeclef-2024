{
 "cells": [
  {
   "cell_type": "markdown",
   "metadata": {},
   "source": [
    "# Inference pipeline"
   ]
  },
  {
   "cell_type": "code",
   "execution_count": 1,
   "metadata": {},
   "outputs": [],
   "source": [
    "%load_ext autoreload\n",
    "%autoreload 2"
   ]
  },
  {
   "cell_type": "code",
   "execution_count": 2,
   "metadata": {},
   "outputs": [
    {
     "name": "stderr",
     "output_type": "stream",
     "text": [
      "/usr/local/lib/python3.10/dist-packages/tqdm/auto.py:21: TqdmWarning: IProgress not found. Please update jupyter and ipywidgets. See https://ipywidgets.readthedocs.io/en/stable/user_install.html\n",
      "  from .autonotebook import tqdm as notebook_tqdm\n",
      "Setting default log level to \"WARN\".\n",
      "To adjust logging level use sc.setLogLevel(newLevel). For SparkR, use setLogLevel(newLevel).\n",
      "24/05/04 23:23:29 WARN NativeCodeLoader: Unable to load native-hadoop library for your platform... using builtin-java classes where applicable\n",
      "24/05/04 23:23:29 WARN SparkConf: Note that spark.local.dir will be overridden by the value set by the cluster manager (via SPARK_LOCAL_DIRS in mesos/standalone/kubernetes and LOCAL_DIRS in YARN).\n"
     ]
    },
    {
     "data": {
      "text/html": [
       "\n",
       "            <div>\n",
       "                <p><b>SparkSession - in-memory</b></p>\n",
       "                \n",
       "        <div>\n",
       "            <p><b>SparkContext</b></p>\n",
       "\n",
       "            <p><a href=\"http://plantclef-dev.us-central1-a.c.dsgt-clef-2024.internal:4040\">Spark UI</a></p>\n",
       "\n",
       "            <dl>\n",
       "              <dt>Version</dt>\n",
       "                <dd><code>v3.5.0</code></dd>\n",
       "              <dt>Master</dt>\n",
       "                <dd><code>local[*]</code></dd>\n",
       "              <dt>AppName</dt>\n",
       "                <dd><code>plantclef</code></dd>\n",
       "            </dl>\n",
       "        </div>\n",
       "        \n",
       "            </div>\n",
       "        "
      ],
      "text/plain": [
       "<pyspark.sql.session.SparkSession at 0x718179652f50>"
      ]
     },
     "metadata": {},
     "output_type": "display_data"
    }
   ],
   "source": [
    "import os\n",
    "import csv\n",
    "import torch\n",
    "import numpy as np\n",
    "import pandas as pd\n",
    "from pathlib import Path\n",
    "from plantclef.utils import get_spark\n",
    "from pyspark import SparkContext\n",
    "from pyspark.sql import functions as F\n",
    "from pyspark.sql.functions import pandas_udf\n",
    "from google.cloud import storage\n",
    "from plantclef.baseline.model import LinearClassifier\n",
    "\n",
    "\n",
    "spark = get_spark()\n",
    "display(spark)"
   ]
  },
  {
   "cell_type": "code",
   "execution_count": 3,
   "metadata": {},
   "outputs": [
    {
     "name": "stderr",
     "output_type": "stream",
     "text": [
      "                                                                                \r"
     ]
    },
    {
     "name": "stdout",
     "output_type": "stream",
     "text": [
      "+------------------------+--------------------------------------------------+\n",
      "|              image_name|                                     dct_embedding|\n",
      "+------------------------+--------------------------------------------------+\n",
      "| CBN-Pla-C3-20190723.jpg|[-20098.941, -21163.824, 10775.059, -5062.299, ...|\n",
      "|   RNNB-3-9-20240117.jpg|[-30963.371, 1738.1318, -22631.05, 7658.0986, 1...|\n",
      "|CBN-PdlC-C4-20160705.jpg|[-21734.926, 7483.978, 856.27124, -969.2971, 19...|\n",
      "|CBN-PdlC-F6-20200722.jpg|[-25506.555, 19362.922, -22429.754, -5536.284, ...|\n",
      "|CBN-PdlC-B1-20190812.jpg|[-30066.883, 16372.629, 13698.087, 13579.195, -...|\n",
      "+------------------------+--------------------------------------------------+\n",
      "only showing top 5 rows\n",
      "\n",
      "+--------------------------------------------+----------+--------------------------------------------------+\n",
      "|                                  image_name|species_id|                                     dct_embedding|\n",
      "+--------------------------------------------+----------+--------------------------------------------------+\n",
      "|170e88ca9af457daa1038092479b251c61c64f7d.jpg|   1742956|[-20648.51, 2133.689, -2555.3125, 14820.57, 685...|\n",
      "|c24a2d8646f5bc7112a39908bd2f6c45bf066a71.jpg|   1356834|[-25395.82, -12564.387, 24736.02, 20483.8, 2115...|\n",
      "|e1f68e5f05618921969aee2575de20e537e6d66b.jpg|   1563754|[-26178.633, -7670.404, -22552.29, -6563.006, 8...|\n",
      "|b0433cd6968b57d52e5c25dc45a28e674a25e61e.jpg|   1367432|[-23662.764, -6773.8213, -8283.518, 3769.6064, ...|\n",
      "|96478a0fe20a41e755b0c8d798690f2c2b7c115f.jpg|   1389010|[-22182.172, -19444.006, 23355.23, 7042.8604, -...|\n",
      "+--------------------------------------------+----------+--------------------------------------------------+\n",
      "only showing top 5 rows\n",
      "\n"
     ]
    }
   ],
   "source": [
    "# get dataframes\n",
    "gcs_path = \"gs://dsgt-clef-plantclef-2024\"\n",
    "test_path = \"data/process/test_v1/dino_dct/data\"\n",
    "dct_emb_train = \"data/process/training_cropped_resized_v2/dino_dct/data\"\n",
    "default_root_dir = (\n",
    "    \"gs://dsgt-clef-plantclef-2024/models/torch-petastorm-v1-limit-species-5\"\n",
    ")\n",
    "# paths to dataframe\n",
    "test_path = f\"{gcs_path}/{test_path}\"\n",
    "dct_gcs_path = f\"{gcs_path}/{dct_emb_train}\"\n",
    "# read data\n",
    "test_df = spark.read.parquet(test_path)\n",
    "dct_df = spark.read.parquet(dct_gcs_path)\n",
    "# show\n",
    "test_df.show(n=5, truncate=50)\n",
    "dct_df.show(n=5, truncate=50)"
   ]
  },
  {
   "cell_type": "markdown",
   "metadata": {},
   "source": [
    "### prepare data for inference"
   ]
  },
  {
   "cell_type": "code",
   "execution_count": 4,
   "metadata": {},
   "outputs": [],
   "source": [
    "limit_species = 5\n",
    "species_image_count = 100\n",
    "\n",
    "\n",
    "def remap_index_to_species_id(df):\n",
    "    # Aggregate and filter species based on image count\n",
    "    grouped_df = (\n",
    "        df.groupBy(\"species_id\")\n",
    "        .agg(F.count(\"species_id\").alias(\"n\"))\n",
    "        .filter(F.col(\"n\") >= species_image_count)\n",
    "        .orderBy(F.col(\"n\").desc(), F.col(\"species_id\"))\n",
    "        .withColumn(\"index\", F.monotonically_increasing_id())\n",
    "    ).drop(\"n\")\n",
    "\n",
    "    # Use broadcast join to optimize smaller DataFrame joining\n",
    "    filtered_df = df.join(F.broadcast(grouped_df), \"species_id\", \"inner\")\n",
    "\n",
    "    # Optionally limit the number of species\n",
    "    if limit_species is not None:\n",
    "        limited_grouped_df = (\n",
    "            (\n",
    "                grouped_df.orderBy(F.rand(seed=42))\n",
    "                .limit(limit_species)\n",
    "                .withColumn(\"new_index\", F.monotonically_increasing_id())\n",
    "            )\n",
    "            .drop(\"index\")\n",
    "            .withColumnRenamed(\"new_index\", \"index\")\n",
    "        )\n",
    "\n",
    "        filtered_df = filtered_df.drop(\"index\").join(\n",
    "            F.broadcast(limited_grouped_df), \"species_id\", \"inner\"\n",
    "        )\n",
    "\n",
    "    return filtered_df"
   ]
  },
  {
   "cell_type": "code",
   "execution_count": 6,
   "metadata": {},
   "outputs": [
    {
     "name": "stderr",
     "output_type": "stream",
     "text": [
      "                                                                                \r"
     ]
    }
   ],
   "source": [
    "# remap the indexes to species and get dataframe\n",
    "filtered_df = remap_index_to_species_id(dct_df)\n",
    "\n",
    "# get parameters for the model\n",
    "feature_col = \"dct_embedding\"\n",
    "num_features = int(len(filtered_df.select(feature_col).first()[feature_col]))\n",
    "num_classes = int(filtered_df.select(\"species_id\").distinct().count())"
   ]
  },
  {
   "cell_type": "code",
   "execution_count": 7,
   "metadata": {},
   "outputs": [],
   "source": [
    "def load_model_from_gcs(num_features: int, num_classes: int):\n",
    "    bucket_name = \"dsgt-clef-plantclef-2024\"\n",
    "    relative_path = default_root_dir.split(f\"{bucket_name}/\")[-1]\n",
    "    path_in_bucket = f\"{relative_path}/checkpoints/last.ckpt\"\n",
    "    client = storage.Client()\n",
    "    bucket = client.bucket(bucket_name)\n",
    "    blob = bucket.blob(path_in_bucket)\n",
    "    blob.download_to_filename(\"last.ckpt\")\n",
    "    checkpoint = torch.load(\"last.ckpt\", map_location=torch.device(\"cpu\"))\n",
    "\n",
    "    # Instantiate the model first\n",
    "    model = LinearClassifier(num_features, num_classes)\n",
    "\n",
    "    # Adjust the state_dict if necessary\n",
    "    state_dict = checkpoint[\"state_dict\"]\n",
    "\n",
    "    # Load the state dictionary\n",
    "    load_result = model.load_state_dict(state_dict, strict=False)\n",
    "\n",
    "    if load_result.missing_keys or load_result.unexpected_keys:\n",
    "        print(\"Warning: There were missing or unexpected keys during model loading\")\n",
    "        print(\"Missing keys:\", load_result.missing_keys)\n",
    "        print(\"Unexpected keys:\", load_result.unexpected_keys)\n",
    "\n",
    "    return model"
   ]
  },
  {
   "cell_type": "code",
   "execution_count": 8,
   "metadata": {},
   "outputs": [],
   "source": [
    "# Get model\n",
    "model = load_model_from_gcs(\n",
    "    num_features=num_features,\n",
    "    num_classes=num_classes,\n",
    ")\n",
    "# Broadcast the model to send to all executors\n",
    "sc = SparkContext.getOrCreate()\n",
    "broadcast_model = sc.broadcast(model)"
   ]
  },
  {
   "cell_type": "code",
   "execution_count": 9,
   "metadata": {},
   "outputs": [],
   "source": [
    "@pandas_udf(\"long\")  # Adjust the return type based on model's output\n",
    "def predict_udf(dct_embedding_series: pd.Series) -> pd.Series:\n",
    "    local_model = broadcast_model.value  # Access the broadcast variable\n",
    "    local_model.eval()  # Set the model to evaluation mode\n",
    "    # Convert the list of numpy arrays to a single numpy array\n",
    "    embeddings_array = np.array(list(dct_embedding_series))\n",
    "    # Convert the numpy array to a PyTorch tensor\n",
    "    embeddings_tensor = torch.tensor(embeddings_array, dtype=torch.float32)\n",
    "    # Make predictions\n",
    "    with torch.no_grad():\n",
    "        outputs = local_model(embeddings_tensor)\n",
    "        predicted_classes = outputs.argmax(\n",
    "            dim=1\n",
    "        ).numpy()  # Get all predicted classes at once\n",
    "    return pd.Series(predicted_classes)\n",
    "\n",
    "\n",
    "# UDF using the CLS token\n",
    "@pandas_udf(\"long\")\n",
    "def predict_with_cls_udf(dct_embedding_series: pd.Series) -> pd.Series:\n",
    "    local_model = broadcast_model.value\n",
    "    local_model.eval()\n",
    "    embeddings_array = np.array(list(dct_embedding_series))\n",
    "    embeddings_tensor = torch.tensor(embeddings_array, dtype=torch.float32)\n",
    "    with torch.no_grad():\n",
    "        outputs = local_model(embeddings_tensor)\n",
    "        cls_token = outputs[:, 0, :]\n",
    "        predicted_classes = cls_token.argmax(dim=1).numpy()\n",
    "    return pd.Series(predicted_classes)"
   ]
  },
  {
   "cell_type": "code",
   "execution_count": 10,
   "metadata": {},
   "outputs": [],
   "source": [
    "def prepare_dataframe_submission(result_df, filtered_df):\n",
    "    # Join both dataframes to get species_id\n",
    "    joined_df = result_df.join(\n",
    "        F.broadcast(filtered_df), result_df.predictions == filtered_df.index, \"inner\"\n",
    "    ).select(result_df.image_name, \"species_id\", \"index\", \"predictions\")\n",
    "    # Create columns for submission\n",
    "    final_df = (\n",
    "        joined_df.withColumn(\"plot_id\", F.regexp_replace(\"image_name\", \"\\\\.jpg$\", \"\"))\n",
    "        .groupBy(\"plot_id\")\n",
    "        .agg(F.collect_set(\"species_id\").alias(\"species_ids\"))\n",
    "    )\n",
    "    # Convert the set of species_ids to a formatted string enclosed in single square brackets\n",
    "    final_df = final_df.withColumn(\n",
    "        \"species_ids\",\n",
    "        F.concat(F.lit(\"[\"), F.concat_ws(\", \", \"species_ids\"), F.lit(\"]\")),\n",
    "    )\n",
    "    return final_df.cache()\n",
    "\n",
    "\n",
    "def write_cvs_to_gcs(final_df):\n",
    "    # Convert Spark DataFrame to Pandas DataFrame\n",
    "    final_pandas_df = final_df.toPandas()\n",
    "\n",
    "    # Export to CSV with the specified format\n",
    "    output_dir = f\"{default_root_dir}/experiments/dsgt_run.csv\"\n",
    "    final_pandas_df.to_csv(output_dir, sep=\";\", index=False, quoting=csv.QUOTE_NONE)"
   ]
  },
  {
   "cell_type": "code",
   "execution_count": 11,
   "metadata": {},
   "outputs": [
    {
     "name": "stderr",
     "output_type": "stream",
     "text": [
      "[Stage 46:======================================>                 (11 + 4) / 16]\r"
     ]
    },
    {
     "name": "stdout",
     "output_type": "stream",
     "text": [
      "+--------------------+-----------+\n",
      "|             plot_id|species_ids|\n",
      "+--------------------+-----------+\n",
      "|CBN-PdlC-A1-20130807|  [1363875]|\n",
      "|CBN-PdlC-A1-20130903|  [1363875]|\n",
      "|CBN-PdlC-A1-20140721|  [1363875]|\n",
      "|CBN-PdlC-A1-20140811|  [1363875]|\n",
      "|CBN-PdlC-A1-20140901|  [1363875]|\n",
      "|CBN-PdlC-A1-20150701|  [1363875]|\n",
      "|CBN-PdlC-A1-20150720|  [1363875]|\n",
      "|CBN-PdlC-A1-20150831|  [1363875]|\n",
      "|CBN-PdlC-A1-20160705|  [1363875]|\n",
      "|CBN-PdlC-A1-20160726|  [1363875]|\n",
      "+--------------------+-----------+\n",
      "only showing top 10 rows\n",
      "\n"
     ]
    },
    {
     "name": "stderr",
     "output_type": "stream",
     "text": [
      "                                                                                \r"
     ]
    }
   ],
   "source": [
    "# Set CLS parameter\n",
    "use_cls_token = False\n",
    "\n",
    "if use_cls_token:\n",
    "    result_df = test_df.withColumn(\n",
    "        \"predictions\", predict_with_cls_udf(test_df[feature_col])\n",
    "    ).cache()\n",
    "else:\n",
    "    # get predictions on test_df\n",
    "    result_df = test_df.withColumn(\n",
    "        \"predictions\", predict_udf(test_df[feature_col])\n",
    "    ).cache()\n",
    "\n",
    "# prepare dataframe for submission\n",
    "final_df = prepare_dataframe_submission(\n",
    "    result_df=result_df,\n",
    "    filtered_df=filtered_df,\n",
    ")\n",
    "final_df.show(n=10, truncate=50)\n",
    "\n",
    "# write CSV file to GCS\n",
    "# write_cvs_to_gcs(final_df=final_df)"
   ]
  },
  {
   "cell_type": "code",
   "execution_count": 12,
   "metadata": {},
   "outputs": [],
   "source": [
    "# Convert Spark DataFrame to Pandas DataFrame\n",
    "final_pandas_df = final_df.toPandas()\n",
    "\n",
    "# Export to CSV with the specified format\n",
    "base_dir = Path(os.getcwd()).parents[1]\n",
    "output_dir = f\"{base_dir}/experiments/dsgt_run_v1.csv\"\n",
    "final_pandas_df.to_csv(output_dir, sep=\";\", index=False, quoting=csv.QUOTE_NONE)"
   ]
  },
  {
   "cell_type": "markdown",
   "metadata": {},
   "source": [
    "## Extract CLS Token"
   ]
  },
  {
   "cell_type": "code",
   "execution_count": 21,
   "metadata": {},
   "outputs": [
    {
     "name": "stderr",
     "output_type": "stream",
     "text": [
      "                                                                                \r"
     ]
    },
    {
     "name": "stdout",
     "output_type": "stream",
     "text": [
      "+--------------------------------------------+----------+--------------------------------------------------+---------+\n",
      "|                                  image_name|species_id|                                    dino_embedding|sample_id|\n",
      "+--------------------------------------------+----------+--------------------------------------------------+---------+\n",
      "|8384311a03a9cff67a54a2825dbeb4d3e8a891a3.jpg|   1397608|[0.75137013, 0.3275455, 1.6707572, 0.45285824, ...|        9|\n",
      "|b38e87b2a2bcfeefcbc6adbeb4aad0437b9e1839.jpg|   1397608|[0.35812917, 1.4896353, 2.4680657, 0.7175607, 0...|        9|\n",
      "|b56d8dc9553c1014cb6aecffa93c734aaa997ccf.jpg|   1363992|[1.5729619, -0.0512933, 0.5113419, -1.4510978, ...|        9|\n",
      "|ff815358961d1c0dbd1a95e1ac5f9dff0e5e13fc.jpg|   1358357|[1.8277985, 0.011137103, -0.058480255, -0.32846...|        9|\n",
      "|e2b977b6461d35a266c28806cb75e11930614866.jpg|   1363814|[0.37129048, -1.4583586, -3.1828911, 1.3645148,...|        9|\n",
      "+--------------------------------------------+----------+--------------------------------------------------+---------+\n",
      "only showing top 5 rows\n",
      "\n",
      "+--------------------------------------------+----------+--------------------------------------------------+\n",
      "|                                  image_name|species_id|                                     cls_embedding|\n",
      "+--------------------------------------------+----------+--------------------------------------------------+\n",
      "|5ddad155a99ff9b22355b940c100ee588fd73587.jpg|   1390691|[1.2776474, 1.4595255, 1.7950346, 2.156743, 2.8...|\n",
      "|ea74d65858ceb7d55981560684234b826a7645e2.jpg|   1360260|[-1.9118708, 3.0542357, -3.143496, 1.4037858, 0...|\n",
      "|86eb8b2e1a7b6a6d4bdd7b49a1e4bd090b867cf5.jpg|   1390699|[0.57074785, 1.7904518, -1.0096772, 1.4558841, ...|\n",
      "|4dd8c6a10041b1c028823d667316679da4c457fd.jpg|   1396486|[0.85863805, -2.9571414, 1.3469055, -0.8254508,...|\n",
      "|1d5d139f575031bd13940c1ef10bf4e73dac6d41.jpg|   1356608|[-0.4914153, -1.3314899, 0.33835393, -0.6760831...|\n",
      "+--------------------------------------------+----------+--------------------------------------------------+\n",
      "only showing top 5 rows\n",
      "\n"
     ]
    }
   ],
   "source": [
    "# get dataframes\n",
    "gcs_path = \"gs://dsgt-clef-plantclef-2024\"\n",
    "dino_emb_train = \"data/process/training_cropped_resized_v2/dino/data\"\n",
    "cls_emb_path = \"data/process/training_cropped_resized_v2/dino_cls_token/data\"\n",
    "# paths to dataframe\n",
    "dino_gcs_path = f\"{gcs_path}/{dino_emb_train}\"\n",
    "cls_gcs_path = f\"{gcs_path}/{cls_emb_path}\"\n",
    "# read data\n",
    "dino_df = spark.read.parquet(dino_gcs_path)\n",
    "cls_df = spark.read.parquet(cls_gcs_path)\n",
    "# show\n",
    "dino_df.show(n=5, truncate=50)\n",
    "cls_df.show(n=5, truncate=50)"
   ]
  },
  {
   "cell_type": "code",
   "execution_count": null,
   "metadata": {},
   "outputs": [],
   "source": []
  },
  {
   "cell_type": "code",
   "execution_count": null,
   "metadata": {},
   "outputs": [],
   "source": []
  }
 ],
 "metadata": {
  "kernelspec": {
   "display_name": "Python 3",
   "language": "python",
   "name": "python3"
  },
  "language_info": {
   "codemirror_mode": {
    "name": "ipython",
    "version": 3
   },
   "file_extension": ".py",
   "mimetype": "text/x-python",
   "name": "python",
   "nbconvert_exporter": "python",
   "pygments_lexer": "ipython3",
   "version": "3.10.12"
  }
 },
 "nbformat": 4,
 "nbformat_minor": 2
}
